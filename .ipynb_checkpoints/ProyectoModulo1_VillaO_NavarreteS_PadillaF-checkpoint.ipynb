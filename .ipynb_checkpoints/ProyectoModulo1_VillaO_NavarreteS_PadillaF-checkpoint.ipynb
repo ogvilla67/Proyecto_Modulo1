{
 "cells": [
  {
   "cell_type": "markdown",
   "metadata": {},
   "source": [
    "<img style=\"float: right; margin: 0px 0px 15px 15px;\" src=\"https://upload.wikimedia.org/wikipedia/commons/d/db/Logo_ITESO_normal.jpg\" width=\"150px\" height=\"50px\" />\n",
    "\n",
    "# Optimización en construcción de presas\n",
    "\n",
    "\n",
    "## Simulación Matemática\n",
    "**Integrantes**\n",
    "- Samir Navarrete\n",
    "- Fernando Padilla\n",
    "- Oscar Villa"
   ]
  },
  {
<<<<<<< HEAD
   "cell_type": "markdown",
   "metadata": {},
   "source": [
    "## 1.**Optimizacion de produccion en fabrica**\n",
    "\n",
    "En este trabajo se llevara a cabo la optimizacion en cuestion de produccion de una fabrica que se dedica a la produccion principalmente de diferentes tipos varillas para construccion. Se optimizara el tiempo de fabricacion para cada varilla y su venta en el mercado , sobre en que cantidades mas optima su venta, ademas, reducir el desperdicio en la elaboracion.\n",
    "\n",
    "## 2.**Objetivos**\n",
    "\n",
    "+ **Propositos**\n",
    "    + El proposito de este trabajo es optimizar la produccion en cuestion de tiempo y utilizacion de materiales (reduccion de residuos), ademas de pretender beneficiar monetariamente.\n",
    "    \n",
    "    ### 2.1 **objetivo general**\n",
    "    + Se requiere encontrar el modelo que mejor optimice el manejo y produccion de los productos.\n",
    "    \n",
    "    ### 2.2 **objetivos especificos**\n",
    "    + Se trataran estos factores:\n",
    "        + Tiempo de elaboracion: Se tratara de optimizar el tiempo en la que se tarda la elaboracion de las varillas, a si mismo el timepo de funcionamiento de la maquinaria, como, el timepo requerido de sus respectivos operadores.\n",
    "        \n",
    "        + Venta del producto: Se sacara la manera mas optima de su venta en el mercado, que cantidades o paquetes garantizan un beneficio monetario considerable \n",
    "        "
   ]
=======
   "cell_type": "code",
   "execution_count": null,
   "metadata": {},
   "outputs": [],
   "source": []
>>>>>>> master
  },
  {
   "cell_type": "code",
   "execution_count": null,
   "metadata": {
    "collapsed": true
   },
   "outputs": [],
   "source": []
  },
  {
   "cell_type": "code",
   "execution_count": null,
   "metadata": {
    "collapsed": true
   },
   "outputs": [],
   "source": []
  },
  {
   "cell_type": "code",
   "execution_count": null,
   "metadata": {
    "collapsed": true
   },
   "outputs": [],
   "source": []
  }
 ],
 "metadata": {
  "kernelspec": {
   "display_name": "Python 3",
   "language": "python",
   "name": "python3"
  },
  "language_info": {
   "codemirror_mode": {
    "name": "ipython",
    "version": 3
   },
   "file_extension": ".py",
   "mimetype": "text/x-python",
   "name": "python",
   "nbconvert_exporter": "python",
   "pygments_lexer": "ipython3",
   "version": "3.6.3"
  }
 },
 "nbformat": 4,
 "nbformat_minor": 2
}
